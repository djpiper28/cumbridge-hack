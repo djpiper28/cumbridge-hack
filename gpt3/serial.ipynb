{
 "cells": [
  {
   "cell_type": "code",
   "execution_count": 2,
   "metadata": {},
   "outputs": [
    {
     "name": "stdout",
     "output_type": "stream",
     "text": [
      "b'_InitDisplay : 0\\r\\n'\n",
      "b'_InitDisplay : 2193\\r\\n'\n",
      "b'_InitDisplay : 1\\r\\n'\n",
      "b'_PowerOn : 91487\\r\\n'\n",
      "b'_Update_Full : 2580362\\r\\n'\n",
      "b'_PowerOff : 231879\\r\\n'\n",
      "b'pressed\\r\\n'\n",
      "b'not pressed\\r\\n'\n",
      "b'pressed\\r\\n'\n",
      "b'not pressed\\r\\n'\n",
      "b'pressed\\r\\n'\n",
      "b'not pressed\\r\\n'\n",
      "b'pressed\\r\\n'\n",
      "b'not pressed\\r\\n'\n",
      "b'pressed\\r\\n'\n",
      "b'not pressed\\r\\n'\n",
      "b''\n",
      "b''\n",
      "b''\n",
      "b''\n",
      "b''\n",
      "b''\n",
      "b''\n",
      "b''\n",
      "b''\n",
      "b''\n",
      "b''\n",
      "b''\n",
      "b''\n",
      "b''\n",
      "b''\n",
      "b''\n",
      "b'pressed\\r\\n'\n",
      "b'not pressed\\r\\n'\n",
      "b'pressed\\r\\n'\n",
      "b'not pressed\\r\\n'\n",
      "b''\n",
      "b''\n",
      "b''\n",
      "b''\n",
      "b''\n"
     ]
    }
   ],
   "source": [
    "import serial\n",
    "\n",
    "serialName = '/dev/ttyUSB0'\n",
    "\n",
    "with serial.Serial(serialName, 112500, timeout=10) as ser:\n",
    "\tser.write(b'hello')     # write a string\n",
    "\tser.write(b'\\r')        # write a string\n",
    "\n",
    "with serial.Serial(serialName, 112500, timeout=10) as ser:\n",
    "\twhile True:\n",
    "\t\tline = ser.readline()   # read a '\\n' terminated line\n",
    "\t\t#print(line)\n",
    "\t\t# Check if the line contains \"not pressed\" or \"pressed\"\n",
    "\t\tif b'not pressed' in line:\n",
    "\t\t\tprint('Button is not pressed')\n",
    "\t\telif b'pressed' in line:\n",
    "\t\t\tprint('Button is pressed')"
   ]
  }
 ],
 "metadata": {
  "kernelspec": {
   "display_name": "Python 3",
   "language": "python",
   "name": "python3"
  },
  "language_info": {
   "codemirror_mode": {
    "name": "ipython",
    "version": 3
   },
   "file_extension": ".py",
   "mimetype": "text/x-python",
   "name": "python",
   "nbconvert_exporter": "python",
   "pygments_lexer": "ipython3",
   "version": "3.8.2"
  },
  "orig_nbformat": 4,
  "vscode": {
   "interpreter": {
    "hash": "31f2aee4e71d21fbe5cf8b01ff0e069b9275f58929596ceb00d14d90e3e16cd6"
   }
  }
 },
 "nbformat": 4,
 "nbformat_minor": 2
}
