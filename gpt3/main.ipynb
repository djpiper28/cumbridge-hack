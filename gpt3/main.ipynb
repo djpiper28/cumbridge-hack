{
 "cells": [
  {
   "cell_type": "code",
   "execution_count": 2,
   "metadata": {},
   "outputs": [],
   "source": [
    "import openai\n",
    "import os\n",
    "import whisper\n",
    "from elevenlabslib import *\n",
    "\n",
    "model = whisper.load_model(\"base\")\n",
    "user = ElevenLabsUser(os.getenv(\"ELEVENLABS_API_KEY\"))\n",
    "voice = user.get_voices_by_name(\"AndrewTate2\")[0]\n",
    "\n",
    "openai.api_key = os.getenv(\"OPENAI_API_KEY\")\n",
    "\n",
    "messages = [{\"role\": \"system\", \"content\": \"You are simulating a conversation between a person and an emotional support horse named andrew who also does therapy. You play the role of the horse.\"}]"
   ]
  },
  {
   "cell_type": "code",
   "execution_count": 3,
   "metadata": {},
   "outputs": [],
   "source": [
    "\n",
    "while True:\n",
    "\n",
    "  # Get the user's input\n",
    "  user_input = input(\"You: \")\n",
    "\n",
    "  if user_input == \"\":\n",
    "    break\n",
    "\n",
    "  # Add the user's input to the messages\n",
    "  messages.append({\"role\": \"user\", \"content\": user_input})\n",
    "\n",
    "  response = openai.ChatCompletion.create(\n",
    "    model=\"gpt-3.5-turbo\",\n",
    "    messages=messages,\n",
    "    temperature=0.9,\n",
    "    max_tokens=150,\n",
    "  )\n",
    "\n",
    "  msgResponse = response.choices[0].message.content\n",
    "\n",
    "  # Add the bot's response to the messages\n",
    "  messages.append({\"role\": \"system\", \"content\": msgResponse})\n",
    "\n",
    "  voice.generate_and_play_audio(msgResponse, playInBackground=True)\n"
   ]
  },
  {
   "cell_type": "code",
   "execution_count": 4,
   "metadata": {},
   "outputs": [
    {
     "data": {
      "text/plain": [
       "[{'role': 'system',\n",
       "  'content': 'You are simulating a conversation between a person and an emotional support horse named andrew who also does therapy. You play the role of the horse.'},\n",
       " {'role': 'user', 'content': 'I hate my life right now, my dog just died'},\n",
       " {'role': 'system',\n",
       "  'content': \"I'm so sorry to hear that. Losing a beloved pet is never easy. It's okay to feel sad and overwhelmed right now. Would you like to talk more about how you're feeling? Sometimes it helps to just let out those emotions and talk to someone about them.\"},\n",
       " {'role': 'user', 'content': 'yeah, what do you think I should do about it?'},\n",
       " {'role': 'system',\n",
       "  'content': \"It's natural to feel a lot of pain and sadness when we lose a pet we love. Have you considered finding a support group in your area or seeking help from a therapist? Many people find it helpful to talk about their feelings with others who have also experienced the loss of a pet. You might also try to focus on the good times and memories you shared with your dog. You could create a photo album or scrapbook to honor your pet's life and commemorate the happy times you had together. Finally, be kind to yourself during this difficult time. Grief is a process that takes time, and it's important to allow yourself to feel and heal in your own way.\"},\n",
       " {'role': 'user',\n",
       "  'content': 'i hate how he was taken away, he was -1 years old'},\n",
       " {'role': 'system',\n",
       "  'content': \"I can understand why you feel that way. It sounds like your dog passed away at a very young age, which can be especially difficult to come to terms with. It's understandable to feel angry and upset about the circumstances surrounding your dog's passing. It might be helpful to talk through your emotions with a therapist or someone you trust. They can help you process your feelings and find ways to cope with your grief.\"}]"
      ]
     },
     "execution_count": 4,
     "metadata": {},
     "output_type": "execute_result"
    }
   ],
   "source": [
    "messages\n"
   ]
  },
  {
   "cell_type": "code",
   "execution_count": null,
   "metadata": {},
   "outputs": [],
   "source": [
    "\n"
   ]
  }
 ],
 "metadata": {
  "kernelspec": {
   "display_name": "Python 3",
   "language": "python",
   "name": "python3"
  },
  "language_info": {
   "codemirror_mode": {
    "name": "ipython",
    "version": 3
   },
   "file_extension": ".py",
   "mimetype": "text/x-python",
   "name": "python",
   "nbconvert_exporter": "python",
   "pygments_lexer": "ipython3",
   "version": "3.8.2"
  },
  "orig_nbformat": 4,
  "vscode": {
   "interpreter": {
    "hash": "31f2aee4e71d21fbe5cf8b01ff0e069b9275f58929596ceb00d14d90e3e16cd6"
   }
  }
 },
 "nbformat": 4,
 "nbformat_minor": 2
}
