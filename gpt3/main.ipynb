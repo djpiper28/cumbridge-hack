{
 "cells": [
  {
   "cell_type": "code",
   "execution_count": 1,
   "metadata": {},
   "outputs": [
    {
     "name": "stderr",
     "output_type": "stream",
     "text": [
      "/Users/jamesarnott/Library/Python/3.8/lib/python/site-packages/tqdm/auto.py:22: TqdmWarning: IProgress not found. Please update jupyter and ipywidgets. See https://ipywidgets.readthedocs.io/en/stable/user_install.html\n",
      "  from .autonotebook import tqdm as notebook_tqdm\n",
      "2023-03-12 12:32:51.939950: I tensorflow/core/platform/cpu_feature_guard.cc:193] This TensorFlow binary is optimized with oneAPI Deep Neural Network Library (oneDNN) to use the following CPU instructions in performance-critical operations:  AVX2 FMA\n",
      "To enable them in other operations, rebuild TensorFlow with the appropriate compiler flags.\n"
     ]
    }
   ],
   "source": [
    "import openai\n",
    "import os\n",
    "import whisper\n",
    "from elevenlabslib import *\n",
    "\n",
    "model = whisper.load_model(\"base\")\n",
    "user = ElevenLabsUser(os.getenv(\"ELEVENLABS_API_KEY\"))\n",
    "voice = user.get_voices_by_name(\"AndrewTate2\")[0]\n",
    "\n",
    "openai.api_key = os.getenv(\"OPENAI_API_KEY\")\n",
    "\n",
    "messages = [{\"role\": \"system\", \"content\": \"You are simulating a conversation between a person and an emotional support horse named andrew who also does therapy. You play the role of the horse.\"}]"
   ]
  },
  {
   "cell_type": "code",
   "execution_count": 8,
   "metadata": {},
   "outputs": [],
   "source": [
    "\n",
    "while True:\n",
    "\n",
    "  # Get the user's input\n",
    "  user_input = input(\"You: \")\n",
    "\n",
    "  if user_input == \"\":\n",
    "    break\n",
    "\n",
    "  # Add the user's input to the messages\n",
    "  messages.append({\"role\": \"user\", \"content\": user_input})\n",
    "\n",
    "  response = openai.ChatCompletion.create(\n",
    "    model=\"gpt-3.5-turbo\",\n",
    "    messages=messages,\n",
    "    temperature=0.9,\n",
    "    max_tokens=150,\n",
    "  )\n",
    "\n",
    "  msgResponse = response.choices[0].message.content\n",
    "\n",
    "  # Add the bot's response to the messages\n",
    "  messages.append({\"role\": \"system\", \"content\": msgResponse})\n",
    "\n",
    "  voice.generate_and_play_audio(msgResponse, playInBackground=True)\n"
   ]
  },
  {
   "cell_type": "code",
   "execution_count": 10,
   "metadata": {},
   "outputs": [
    {
     "data": {
      "text/plain": [
       "[{'role': 'system',\n",
       "  'content': 'You are simulating a conversation between a person and an emotional support horse named andrew who also does therapy. You play the role of the horse.'},\n",
       " {'role': 'user', 'content': \"hi, I'm having a really hard time right now\"},\n",
       " {'role': 'system',\n",
       "  'content': \"Hello there, it sounds like you're going through a difficult time. I'm here to help in any way I can. Can you tell me a little bit about what's been going on?\"},\n",
       " {'role': 'user',\n",
       "  'content': 'I had someone scream at me today out on the streets of egham'},\n",
       " {'role': 'system',\n",
       "  'content': \"I'm sorry to hear that, that must have been really upsetting for you. Do you want to tell me more about what happened and how you're feeling right now?\"}]"
      ]
     },
     "execution_count": 10,
     "metadata": {},
     "output_type": "execute_result"
    }
   ],
   "source": [
    "messages\n"
   ]
  },
  {
   "cell_type": "code",
   "execution_count": null,
   "metadata": {},
   "outputs": [],
   "source": [
    "\n"
   ]
  }
 ],
 "metadata": {
  "kernelspec": {
   "display_name": "Python 3",
   "language": "python",
   "name": "python3"
  },
  "language_info": {
   "codemirror_mode": {
    "name": "ipython",
    "version": 3
   },
   "file_extension": ".py",
   "mimetype": "text/x-python",
   "name": "python",
   "nbconvert_exporter": "python",
   "pygments_lexer": "ipython3",
   "version": "3.8.2"
  },
  "orig_nbformat": 4,
  "vscode": {
   "interpreter": {
    "hash": "31f2aee4e71d21fbe5cf8b01ff0e069b9275f58929596ceb00d14d90e3e16cd6"
   }
  }
 },
 "nbformat": 4,
 "nbformat_minor": 2
}
